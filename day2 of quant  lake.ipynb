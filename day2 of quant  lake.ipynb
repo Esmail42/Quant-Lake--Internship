{
 "cells": [
  {
   "cell_type": "markdown",
   "id": "32b5e7f7-0141-4e78-a7d9-883f4a175114",
   "metadata": {},
   "source": [
    "# list"
   ]
  },
  {
   "cell_type": "code",
   "execution_count": 1,
   "id": "0bd51820-50b2-4927-bdf0-779be16bd419",
   "metadata": {},
   "outputs": [
    {
     "name": "stdout",
     "output_type": "stream",
     "text": [
      "Sorted list without duplicates: [2, 3, 5, 8, 10]\n"
     ]
    }
   ],
   "source": [
    "numbers = [5, 2, 8, 2, 3, 5, 10, 3]\n",
    "unique_sorted = sorted(set(numbers))\n",
    "print(\"Sorted list without duplicates:\", unique_sorted)\n"
   ]
  },
  {
   "cell_type": "markdown",
   "id": "b90d82be-5dfc-42ab-880a-844d18eb1ba5",
   "metadata": {},
   "source": [
    "# tuple"
   ]
  },
  {
   "cell_type": "code",
   "execution_count": 2,
   "id": "3df545f1-61d6-427e-a382-e383a4234c74",
   "metadata": {},
   "outputs": [
    {
     "name": "stdout",
     "output_type": "stream",
     "text": [
      "Tuple example: ('apple', 'banana', 'cherry')\n",
      "Access second fruit: banana\n"
     ]
    }
   ],
   "source": [
    "fruits = (\"apple\", \"banana\", \"cherry\")\n",
    "print(\"Tuple example:\", fruits)\n",
    "print(\"Access second fruit:\", fruits[1])"
   ]
  },
  {
   "cell_type": "markdown",
   "id": "a8d58eef-5ed4-4f90-a01d-2b0c985e3457",
   "metadata": {},
   "source": [
    "# set"
   ]
  },
  {
   "cell_type": "code",
   "execution_count": 4,
   "id": "9755d5c9-f091-439c-b463-4f2aaae6e032",
   "metadata": {},
   "outputs": [
    {
     "name": "stdout",
     "output_type": "stream",
     "text": [
      "Set with unique colors: {'green', 'blue', 'red'}\n"
     ]
    }
   ],
   "source": [
    "colors = {\"red\", \"blue\", \"green\", \"blue\"}\n",
    "print(\"Set with unique colors:\", colors)"
   ]
  },
  {
   "cell_type": "code",
   "execution_count": null,
   "id": "70e8dd7a-cf08-49e2-a8c7-3e837d5c634c",
   "metadata": {},
   "outputs": [],
   "source": []
  },
  {
   "cell_type": "markdown",
   "id": "792c772b-a17d-48d7-8236-6533a24467fa",
   "metadata": {},
   "source": [
    "# dictionary"
   ]
  },
  {
   "cell_type": "code",
   "execution_count": 7,
   "id": "e94f564b-34eb-4de9-8e05-c6a71fcd62c5",
   "metadata": {},
   "outputs": [
    {
     "name": "stdout",
     "output_type": "stream",
     "text": [
      "Science Marks: 92\n",
      "History Term 2 Marks: 81\n"
     ]
    }
   ],
   "source": [
    "student = {\n",
    "    \"name\": \"Ali\",\n",
    "    \"marks\": {\n",
    "        \"math\": 88,\n",
    "        \"science\": 92,\n",
    "        \"history\": {\n",
    "            \"term1\": 78,\n",
    "            \"term2\": 81\n",
    "        }\n",
    "    }\n",
    "}\n",
    "print(\"Science Marks:\", student[\"marks\"][\"science\"])\n",
    "print(\"History Term 2 Marks:\", student[\"marks\"][\"history\"][\"term2\"])\n"
   ]
  },
  {
   "cell_type": "markdown",
   "id": "266a828e-d36e-4f25-8ffd-3db834a5f700",
   "metadata": {},
   "source": [
    "# list with duplicates"
   ]
  },
  {
   "cell_type": "code",
   "execution_count": 8,
   "id": "5e87296f-f515-4147-bee1-6f6e4b151a3d",
   "metadata": {},
   "outputs": [
    {
     "name": "stdout",
     "output_type": "stream",
     "text": [
      "Sorted list without duplicates: [1, 2, 3, 4, 5, 6, 7, 8, 9, 17]\n"
     ]
    }
   ],
   "source": [
    "numbers= [1,2,3,4,5,6,7,8,9,6,5,4,3,2,17,8,9]\n",
    "unique_sorted = sorted(set(numbers))\n",
    "print(\"Sorted list without duplicates:\", unique_sorted)\n"
   ]
  },
  {
   "cell_type": "markdown",
   "id": "0abe5d9d-74e6-4e83-b43a-e3076d911883",
   "metadata": {},
   "source": [
    "# deeply nested dictionary "
   ]
  },
  {
   "cell_type": "code",
   "execution_count": 9,
   "id": "66866906-fec1-47b9-abf5-992e2fafb607",
   "metadata": {},
   "outputs": [
    {
     "name": "stdout",
     "output_type": "stream",
     "text": [
      "City Name: Kurnool\n",
      "College Branch: ECE\n"
     ]
    }
   ],
   "source": [
    "person = {\n",
    "    \"name\": \"Esmail\",\n",
    "    \"location\": {\n",
    "        \"country\": \"India\",\n",
    "        \"city\": {\n",
    "            \"name\": \"Kurnool\",\n",
    "            \"pin\": 518001\n",
    "        }\n",
    "    },\n",
    "    \"education\": {\n",
    "        \"college\": {\n",
    "            \"name\": \"GPCET\",\n",
    "            \"branch\": \"ECE\"\n",
    "        }\n",
    "    }\n",
    "}\n",
    "print(\"City Name:\", person[\"location\"][\"city\"][\"name\"])\n",
    "print(\"College Branch:\", person[\"education\"][\"college\"][\"branch\"])\n"
   ]
  },
  {
   "cell_type": "markdown",
   "id": "769bf7fa-78f7-4f3c-960c-3c5b790de51f",
   "metadata": {},
   "source": [
    "# task 2"
   ]
  },
  {
   "cell_type": "markdown",
   "id": "68339450-e5e2-41c5-bff0-41c23b668831",
   "metadata": {},
   "source": [
    "# factorial function"
   ]
  },
  {
   "cell_type": "code",
   "execution_count": 13,
   "id": "4e84dd47-cbbd-476f-a9c3-dc2ee1fb2033",
   "metadata": {},
   "outputs": [
    {
     "name": "stdout",
     "output_type": "stream",
     "text": [
      "Factorial of 5: 5040\n"
     ]
    }
   ],
   "source": [
    "def factorial(n):\n",
    "    result = 1\n",
    "    for i in range(2, n + 1):\n",
    "        result *= i\n",
    "    return result\n",
    "print(\"Factorial of 5:\", factorial(7))"
   ]
  },
  {
   "cell_type": "markdown",
   "id": "6e067342-588e-4e05-add1-1e79b214bcb4",
   "metadata": {},
   "source": [
    "# prime number checker"
   ]
  },
  {
   "cell_type": "code",
   "execution_count": 17,
   "id": "f31d4a91-e18b-4183-8214-e67340d919fb",
   "metadata": {},
   "outputs": [
    {
     "name": "stdout",
     "output_type": "stream",
     "text": [
      "Is 17 a prime number? True\n",
      "Is 28 a prime number? False\n"
     ]
    }
   ],
   "source": [
    "def is_prime(n):\n",
    "    if n < 2:\n",
    "        return False\n",
    "    for i in range(2, int(n ** 0.5) + 1):\n",
    "        if n % i == 0:\n",
    "            return False\n",
    "    return True\n",
    "print(\"Is 17 a prime number?\", is_prime(17))\n",
    "print(\"Is 28 a prime number?\", is_prime(28))"
   ]
  },
  {
   "cell_type": "markdown",
   "id": "c9ba438e-03a1-4261-8a8d-5301e315b58b",
   "metadata": {},
   "source": [
    "# Use built-in modules"
   ]
  },
  {
   "cell_type": "code",
   "execution_count": 20,
   "id": "177c02a8-e0e7-45d0-925b-bd91669bfcad",
   "metadata": {},
   "outputs": [
    {
     "name": "stdout",
     "output_type": "stream",
     "text": [
      "Square root of 49: 7.0\n",
      "Ceiling of 4.3: 5\n",
      "Floor of 4.7: 4\n",
      "Random integer between 1 and 100: 68\n",
      "Current date and time: 2025-06-19 21:13:02.583381\n",
      "Today's date: 2025-06-19 21:13:02.583381\n"
     ]
    }
   ],
   "source": [
    "import math\n",
    "import random\n",
    "import datetime\n",
    "\n",
    "print(\"Square root of 49:\", math.sqrt(49))\n",
    "print(\"Ceiling of 4.3:\", math.ceil(4.3))\n",
    "print(\"Floor of 4.7:\", math.floor(4.7))\n",
    "print(\"Random integer between 1 and 100:\", random.randint(1, 100))\n",
    "\n",
    "now = datetime.datetime.now()\n",
    "print(\"Current date and time:\", now)\n",
    "print(\"Today's date:\", now)"
   ]
  },
  {
   "cell_type": "markdown",
   "id": "19108d26-2f69-4595-b691-a2dba0511fa1",
   "metadata": {},
   "source": [
    "# Exception Handling & task3"
   ]
  },
  {
   "cell_type": "markdown",
   "id": "a1ad2b3a-5902-43c8-a106-70d551b7cf0e",
   "metadata": {},
   "source": [
    "# Division by Zero Handling"
   ]
  },
  {
   "cell_type": "code",
   "execution_count": 32,
   "id": "ee64fda0-0691-4b72-8b13-4002ba70d990",
   "metadata": {},
   "outputs": [
    {
     "name": "stdin",
     "output_type": "stream",
     "text": [
      "Enter an integer:  99\n"
     ]
    },
    {
     "name": "stdout",
     "output_type": "stream",
     "text": [
      "✅ You entered: 99\n",
      "🔁 Done checking user input.\n"
     ]
    }
   ],
   "source": [
    "try:\n",
    "    user_input = input(\"Enter an integer: \")\n",
    "    number = int(user_input)\n",
    "    print(\"✅ You entered:\", number)\n",
    "except ValueError:\n",
    "    print(\"❌ That's not a valid integer!\")\n",
    "finally:\n",
    "    print(\"🔁 Done checking user input.\")\n"
   ]
  },
  {
   "cell_type": "markdown",
   "id": "9775e3d3-05cc-4a94-8376-3b4ee55e59fd",
   "metadata": {},
   "source": [
    "# Validate User Input Types"
   ]
  },
  {
   "cell_type": "code",
   "execution_count": 30,
   "id": "fa0551d8-0a43-49d3-9f56-e708123cd514",
   "metadata": {},
   "outputs": [
    {
     "name": "stdin",
     "output_type": "stream",
     "text": [
      "Enter an integer:  77\n"
     ]
    },
    {
     "name": "stdout",
     "output_type": "stream",
     "text": [
      "✅ You entered: 77\n",
      "🔁 Done checking user input.\n"
     ]
    }
   ],
   "source": [
    "user_input = \"abc\"  \n",
    "try:\n",
    "    user_input = input(\"Enter an integer: \")\n",
    "    number = int(user_input)\n",
    "    print(\"✅ You entered:\", number)\n",
    "except ValueError:\n",
    "    print(\"❌ That's not a valid integer!\")\n",
    "finally:\n",
    "    print(\"🔁 Done checking user input.\")\n"
   ]
  },
  {
   "cell_type": "markdown",
   "id": "a1443ac0-3811-4f34-a8b4-ae30d6ab4cc4",
   "metadata": {},
   "source": [
    "# pratice problems"
   ]
  },
  {
   "cell_type": "markdown",
   "id": "8fa6aa3f-5366-4b28-bd1f-6e0b76416b00",
   "metadata": {},
   "source": [
    "# FizzBuzz from 1 to 20"
   ]
  },
  {
   "cell_type": "code",
   "execution_count": 35,
   "id": "de20ec71-c799-4760-a8a6-a8921178ba47",
   "metadata": {},
   "outputs": [
    {
     "name": "stdout",
     "output_type": "stream",
     "text": [
      "1\n",
      "2\n",
      "Fizz\n",
      "4\n",
      "Buzz\n",
      "Fizz\n",
      "7\n",
      "8\n",
      "Fizz\n",
      "Buzz\n",
      "11\n",
      "Fizz\n",
      "13\n",
      "14\n",
      "FizzBuzz\n",
      "16\n",
      "17\n",
      "Fizz\n",
      "19\n",
      "Buzz\n"
     ]
    }
   ],
   "source": [
    "\n",
    "for i in range(1, 21):\n",
    "    if i % 3 == 0 and i % 5 == 0:\n",
    "        print(\"FizzBuzz\")\n",
    "    elif i % 3 == 0:\n",
    "        print(\"Fizz\")\n",
    "    elif i % 5 == 0:\n",
    "        print(\"Buzz\")\n",
    "    else:\n",
    "        print(i)"
   ]
  },
  {
   "cell_type": "code",
   "execution_count": 37,
   "id": "69028d3a-2d50-44d6-b709-881eb2e71bda",
   "metadata": {},
   "outputs": [
    {
     "name": "stdout",
     "output_type": "stream",
     "text": [
      "Largest number is: 99\n"
     ]
    }
   ],
   "source": [
    "# Find largest number in a list\n",
    "numbers = [12, 45, 7, 89,77,99, 23, 67]\n",
    "largest = max(numbers)\n",
    "print(\"Largest number is:\", largest)\n"
   ]
  },
  {
   "cell_type": "code",
   "execution_count": 38,
   "id": "b8be1e72-1857-47f0-b6b3-d90ab170ee14",
   "metadata": {},
   "outputs": [
    {
     "name": "stdout",
     "output_type": "stream",
     "text": [
      "Reversed string: ekaLtnauQ\n"
     ]
    }
   ],
   "source": [
    "# Reverse a given string\n",
    "text = \"QuantLake\"\n",
    "reversed_text = text[::-1]\n",
    "print(\"Reversed string:\", reversed_text)\n"
   ]
  },
  {
   "cell_type": "code",
   "execution_count": 39,
   "id": "03ac7bb8-05fd-4286-8b1d-8e7d72ae7290",
   "metadata": {},
   "outputs": [
    {
     "name": "stdout",
     "output_type": "stream",
     "text": [
      "Is 121 a palindrome? True\n",
      "Is 123 a palindrome? False\n"
     ]
    }
   ],
   "source": [
    "def is_palindrome(n):\n",
    "    return str(n) == str(n)[::-1]\n",
    "\n",
    "print(\"Is 121 a palindrome?\", is_palindrome(121))   # True\n",
    "print(\"Is 123 a palindrome?\", is_palindrome(123))   # False\n"
   ]
  },
  {
   "cell_type": "code",
   "execution_count": null,
   "id": "06477d68-0cef-4137-87d0-99f3a5ab9419",
   "metadata": {},
   "outputs": [],
   "source": []
  }
 ],
 "metadata": {
  "kernelspec": {
   "display_name": "Python [conda env:base] *",
   "language": "python",
   "name": "conda-base-py"
  },
  "language_info": {
   "codemirror_mode": {
    "name": "ipython",
    "version": 3
   },
   "file_extension": ".py",
   "mimetype": "text/x-python",
   "name": "python",
   "nbconvert_exporter": "python",
   "pygments_lexer": "ipython3",
   "version": "3.12.7"
  }
 },
 "nbformat": 4,
 "nbformat_minor": 5
}
