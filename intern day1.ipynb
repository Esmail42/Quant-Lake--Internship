{
 "cells": [
  {
   "cell_type": "markdown",
   "id": "0b5dfdee-f3b9-49bd-9179-0e6ebfa58e7a",
   "metadata": {},
   "source": [
    "# Integer"
   ]
  },
  {
   "cell_type": "code",
   "execution_count": 9,
   "id": "266cde8f-3ebe-42a0-9de3-e47bfce612ab",
   "metadata": {},
   "outputs": [
    {
     "name": "stdout",
     "output_type": "stream",
     "text": [
      "Integer: 10\n"
     ]
    }
   ],
   "source": [
    "a = 10  \n",
    "print(\"Integer:\", a)\n"
   ]
  },
  {
   "cell_type": "markdown",
   "id": "bb345638-39f3-4bb4-b598-d72b1e529785",
   "metadata": {},
   "source": [
    "# float"
   ]
  },
  {
   "cell_type": "code",
   "execution_count": 10,
   "id": "92d4e591-9525-419e-9120-c8b8bef0fbef",
   "metadata": {},
   "outputs": [
    {
     "name": "stdout",
     "output_type": "stream",
     "text": [
      "float: 1.07\n"
     ]
    }
   ],
   "source": [
    "b=1.07\n",
    "print(\"float:\",b)"
   ]
  },
  {
   "cell_type": "markdown",
   "id": "4332a224-d935-461b-8637-faf930d0ef32",
   "metadata": {},
   "source": [
    "# string"
   ]
  },
  {
   "cell_type": "code",
   "execution_count": 11,
   "id": "14bc87b5-98e5-47e6-a469-5cb1d53f7e70",
   "metadata": {},
   "outputs": [
    {
     "name": "stdout",
     "output_type": "stream",
     "text": [
      "string: Shaik Esmail\n"
     ]
    }
   ],
   "source": [
    "name=\"Shaik Esmail\"\n",
    "print(\"string:\",name)"
   ]
  },
  {
   "cell_type": "markdown",
   "id": "00ed5bca-02cc-45ea-8b5a-129a665d2f27",
   "metadata": {},
   "source": [
    "# boolean"
   ]
  },
  {
   "cell_type": "code",
   "execution_count": 13,
   "id": "dd356c40-a97c-42d9-b820-f4099f527a49",
   "metadata": {},
   "outputs": [
    {
     "name": "stdout",
     "output_type": "stream",
     "text": [
      "boolean: True\n"
     ]
    }
   ],
   "source": [
    "is_student = True\n",
    "print(\"boolean:\",is_student)"
   ]
  },
  {
   "cell_type": "markdown",
   "id": "f213d931-ab3a-402b-8285-c1bbd850f342",
   "metadata": {},
   "source": [
    "# lists"
   ]
  },
  {
   "cell_type": "code",
   "execution_count": 14,
   "id": "30fde17a-ce8d-4855-b190-8963e2439ae3",
   "metadata": {},
   "outputs": [
    {
     "name": "stdout",
     "output_type": "stream",
     "text": [
      "List: ['apple', 'banana', 'cherry']\n"
     ]
    }
   ],
   "source": [
    "fruits = [\"apple\", \"banana\", \"cherry\"]\n",
    "print(\"List:\", fruits)"
   ]
  },
  {
   "cell_type": "markdown",
   "id": "4004f8c6-f00c-444a-87fc-387490378dd6",
   "metadata": {},
   "source": [
    "# tuple"
   ]
  },
  {
   "cell_type": "code",
   "execution_count": 15,
   "id": "aeb03aac-b074-4265-a74d-fcb8af743dd8",
   "metadata": {},
   "outputs": [
    {
     "name": "stdout",
     "output_type": "stream",
     "text": [
      "Tuple: ('red', 'green', 'blue')\n"
     ]
    }
   ],
   "source": [
    "colors = (\"red\", \"green\", \"blue\")\n",
    "print(\"Tuple:\", colors)"
   ]
  },
  {
   "cell_type": "markdown",
   "id": "5fe50261-1c33-401a-a6f3-51be5e95ff65",
   "metadata": {},
   "source": [
    "# dictionary"
   ]
  },
  {
   "cell_type": "code",
   "execution_count": 16,
   "id": "e7088a78-52b7-4703-8c3e-032a6f81c533",
   "metadata": {},
   "outputs": [
    {
     "name": "stdout",
     "output_type": "stream",
     "text": [
      "Dictionary: {'name': 'Esmail', 'age': 20, 'branch': 'ECE'}\n"
     ]
    }
   ],
   "source": [
    "student = {\"name\": \"Esmail\", \"age\": 20, \"branch\": \"ECE\"}\n",
    "print(\"Dictionary:\", student)"
   ]
  },
  {
   "cell_type": "markdown",
   "id": "dc8b5d69-4ce9-4974-83c9-33db789bf36c",
   "metadata": {},
   "source": [
    "# Arithmetic  Operators"
   ]
  },
  {
   "cell_type": "code",
   "execution_count": 17,
   "id": "502f2b7d-a6b5-4569-bdf3-2cf30c9fe83d",
   "metadata": {},
   "outputs": [
    {
     "name": "stdout",
     "output_type": "stream",
     "text": [
      "Addition: 22\n",
      "Subtraction: 8\n",
      "Multiplication: 105\n",
      "Division: 2.142857142857143\n",
      "Modulus: 1\n"
     ]
    }
   ],
   "source": [
    "x = 15\n",
    "y = 7\n",
    "print(\"Addition:\", x + y)\n",
    "print(\"Subtraction:\", x - y)\n",
    "print(\"Multiplication:\", x * y)\n",
    "print(\"Division:\", x / y)\n",
    "print(\"Modulus:\", x % y)"
   ]
  },
  {
   "cell_type": "markdown",
   "id": "0a58bf88-4a2d-4e6e-baab-184b18263bbe",
   "metadata": {},
   "source": [
    "# Comparison operators"
   ]
  },
  {
   "cell_type": "code",
   "execution_count": 18,
   "id": "23ab4170-ad08-40e9-bb18-62c2bf2d2782",
   "metadata": {},
   "outputs": [
    {
     "name": "stdout",
     "output_type": "stream",
     "text": [
      "Equal: False\n",
      "Not Equal: True\n",
      "Greater than: True\n",
      "Less than: False\n"
     ]
    }
   ],
   "source": [
    "a = 10\n",
    "b = 7\n",
    "print(\"Equal:\", a == b)\n",
    "print(\"Not Equal:\", a != b)\n",
    "print(\"Greater than:\", a > b)\n",
    "print(\"Less than:\", a < b)"
   ]
  },
  {
   "cell_type": "markdown",
   "id": "8ab42149-2a7e-4493-a9ca-23704c2eb359",
   "metadata": {},
   "source": [
    "# if, else,elif"
   ]
  },
  {
   "cell_type": "code",
   "execution_count": 19,
   "id": "fef69acf-07ba-4112-8239-002e27eba998",
   "metadata": {},
   "outputs": [
    {
     "name": "stdout",
     "output_type": "stream",
     "text": [
      "Grade: C or below\n"
     ]
    }
   ],
   "source": [
    "marks = 70\n",
    "\n",
    "if marks >= 90:\n",
    "    print(\"Grade: A\")\n",
    "elif marks >= 75:\n",
    "    print(\"Grade: B\")\n",
    "else:\n",
    "    print(\"Grade: C or below\")"
   ]
  },
  {
   "cell_type": "markdown",
   "id": "8cd97cea-2ec3-45e8-b41c-a5e40594f17e",
   "metadata": {},
   "source": [
    "# for loop"
   ]
  },
  {
   "cell_type": "code",
   "execution_count": 20,
   "id": "4674b047-d12d-4377-bbcb-6566320cdd00",
   "metadata": {},
   "outputs": [
    {
     "name": "stdout",
     "output_type": "stream",
     "text": [
      "Number: 1\n",
      "Number: 2\n",
      "Number: 3\n",
      "Number: 4\n",
      "Number: 5\n"
     ]
    }
   ],
   "source": [
    "for i in range(1, 6):\n",
    "    print(\"Number:\", i)"
   ]
  },
  {
   "cell_type": "markdown",
   "id": "773cf6f8-52a0-490d-9398-54dc4e298aa2",
   "metadata": {},
   "source": [
    "# while loop"
   ]
  },
  {
   "cell_type": "code",
   "execution_count": 23,
   "id": "bd6ce44e-d35b-4701-9191-dc1d34b17199",
   "metadata": {},
   "outputs": [
    {
     "name": "stdout",
     "output_type": "stream",
     "text": [
      "Count: 1\n",
      "Count: 2\n",
      "Count: 3\n",
      "Count: 4\n",
      "Count: 5\n"
     ]
    }
   ],
   "source": [
    "count = 1\n",
    "while count <= 5:\n",
    "    print(\"Count:\",count)\n",
    "    count += 1"
   ]
  },
  {
   "cell_type": "code",
   "execution_count": null,
   "id": "17e16bac-f5cf-4811-a1df-36b93cac2ef4",
   "metadata": {},
   "outputs": [],
   "source": []
  }
 ],
 "metadata": {
  "kernelspec": {
   "display_name": "Python [conda env:base] *",
   "language": "python",
   "name": "conda-base-py"
  },
  "language_info": {
   "codemirror_mode": {
    "name": "ipython",
    "version": 3
   },
   "file_extension": ".py",
   "mimetype": "text/x-python",
   "name": "python",
   "nbconvert_exporter": "python",
   "pygments_lexer": "ipython3",
   "version": "3.12.7"
  }
 },
 "nbformat": 4,
 "nbformat_minor": 5
}
