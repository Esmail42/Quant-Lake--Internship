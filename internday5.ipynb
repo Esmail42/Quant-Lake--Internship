{
 "cells": [
  {
   "cell_type": "markdown",
   "id": "4b42d641-5797-4d02-b636-379ace0a6458",
   "metadata": {},
   "source": [
    "# Task 1: Reshaping DataFrames"
   ]
  },
  {
   "cell_type": "code",
   "execution_count": 2,
   "id": "153e0ad5-8f27-4085-9948-85d91f40964a",
   "metadata": {},
   "outputs": [
    {
     "name": "stdout",
     "output_type": "stream",
     "text": [
      "['Date', 'Day', 'SKU', 'City', 'Volume', 'BU', 'Brand', 'Model', 'Avg Price', 'Total Sales Value', 'Discount Rate (%)', 'Discount Amount', 'Net Sales Value']\n",
      "Brand         Babaji          Gear          Jeera        Orange         RealU  \\\n",
      "City                                                                            \n",
      "C      145264.746866  88725.408398  426125.675835  3.619953e+06  2.667158e+06   \n",
      "\n",
      "Brand       Sumsang         Vedic           Viva          YouM  \n",
      "City                                                            \n",
      "C      3.294200e+06  93665.996987  315843.934962  3.058914e+06  \n",
      "Brand           Babaji         Gear        Jeera         Orange         RealU  \\\n",
      "BU                                                                              \n",
      "FMCG       3228.105486  1478.756807          NaN            NaN           NaN   \n",
      "Lifestyle          NaN          NaN  4734.729732            NaN           NaN   \n",
      "Mobiles            NaN          NaN          NaN  120665.104341  59270.171579   \n",
      "\n",
      "Brand            Sumsang      Vedic         Viva        YouM  \n",
      "BU                                                            \n",
      "FMCG                 NaN  2081.4666          NaN         NaN  \n",
      "Lifestyle            NaN        NaN  5264.065583         NaN  \n",
      "Mobiles    109806.681809        NaN          NaN  67975.8709  \n",
      "         Date City  Brand  Metric  Value\n",
      "0  01-04-2021    C  RealU  Volume   15.0\n",
      "1  01-04-2021    C  RealU  Volume   10.0\n",
      "2  01-04-2021    C   YouM  Volume    7.0\n",
      "3  01-04-2021    C   YouM  Volume    6.0\n",
      "4  01-04-2021    C   YouM  Volume    3.0\n"
     ]
    }
   ],
   "source": [
    "import pandas as pd\n",
    "df = pd.read_csv(\"sales_data_with_discounts.csv\")\n",
    "df.columns = df.columns.str.strip()  \n",
    "print(df.columns.tolist())\n",
    "pivot_sales = df.pivot_table(values='Net Sales Value', index='City', columns='Brand', aggfunc='sum')\n",
    "print( pivot_sales.head())\n",
    "avg_sales = df.pivot_table(values='Net Sales Value', index='BU', columns='Brand', aggfunc='mean')\n",
    "print(avg_sales.head())\n",
    "melted = pd.melt(df, \n",
    "                 id_vars=['Date', 'City', 'Brand'], \n",
    "                 value_vars=['Volume', 'Discount Amount', 'Net Sales Value'],\n",
    "                 var_name='Metric', \n",
    "                 value_name='Value')\n",
    "\n",
    "print(melted.head())\n"
   ]
  },
  {
   "cell_type": "markdown",
   "id": "5db0c5c1-d1b8-4faf-a987-2ed48fa4b46c",
   "metadata": {},
   "source": [
    "# Task 2: Apply Custom Functions"
   ]
  },
  {
   "cell_type": "code",
   "execution_count": 4,
   "id": "471080a0-c310-484b-aee8-302f0a4b2232",
   "metadata": {},
   "outputs": [
    {
     "name": "stdout",
     "output_type": "stream",
     "text": [
      "\n",
      "📊 Profit Margin Category and Discount Flags:\n",
      "         Model  Profit Margin (%) Profit Category  Discount Rate (%)  \\\n",
      "0       RU-10          88.345180            High          11.654820   \n",
      "1   RU-9 Plus          88.439502            High          11.560498   \n",
      "2       YM-99          90.543114            High           9.456886   \n",
      "3  YM-99 Plus          93.064615            High           6.935385   \n",
      "4      YM-98           82.004337            High          17.995663   \n",
      "\n",
      "  High Discount Flag  \n",
      "0                 No  \n",
      "1                 No  \n",
      "2                 No  \n",
      "3                 No  \n",
      "4                 No  \n"
     ]
    }
   ],
   "source": [
    "df['Profit Margin (%)'] = (df['Net Sales Value'] / df['Total Sales Value']) * 100\n",
    "df['Profit Category'] = df['Profit Margin (%)'].apply(\n",
    "    lambda x: 'High' if x > 80 else 'Medium' if x > 50 else 'Low'\n",
    ")\n",
    "df['High Discount Flag'] = df['Discount Rate (%)'].apply(lambda x: 'Yes' if x > 90 else 'No')\n",
    "print(\"\\n📊 Profit Margin Category and Discount Flags:\\n\", df[['Model', 'Profit Margin (%)', 'Profit Category', 'Discount Rate (%)', 'High Discount Flag']].head())"
   ]
  },
  {
   "cell_type": "markdown",
   "id": "03fe00be-9832-4fa5-a40f-20d1bb66737c",
   "metadata": {},
   "source": [
    "# Task 3: Mapping & Replacing "
   ]
  },
  {
   "cell_type": "code",
   "execution_count": 6,
   "id": "5bc2c36b-33a4-4d15-9de3-9d4c7d0a53e4",
   "metadata": {},
   "outputs": [
    {
     "name": "stdout",
     "output_type": "stream",
     "text": [
      "\n",
      "🔁 City mapped to codes and BU updated:\n",
      "   City City Code       BU BU Updated\n",
      "0    C       NaN  Mobiles    Mobiles\n",
      "1    C       NaN  Mobiles    Mobiles\n",
      "2    C       NaN  Mobiles    Mobiles\n",
      "3    C       NaN  Mobiles    Mobiles\n",
      "4    C       NaN  Mobiles    Mobiles\n"
     ]
    }
   ],
   "source": [
    "city_code_map = {\n",
    "    \"Hyderabad\": \"HYD\",\n",
    "    \"Chennai\": \"CHE\",\n",
    "    \"Bangalore\": \"BLR\",\n",
    "    \"Delhi\": \"DEL\",\n",
    "    \"Mumbai\": \"MUM\"\n",
    "}\n",
    "\n",
    "df['City Code'] = df['City'].map(city_code_map)\n",
    "df['BU Updated'] = df['BU'].replace({'Consumer': 'Retail'})\n",
    "print(\"\\n🔁 City mapped to codes and BU updated:\\n\", df[['City', 'City Code', 'BU', 'BU Updated']].head())"
   ]
  },
  {
   "cell_type": "markdown",
   "id": "913403d6-3a4c-4686-8434-b93782565a7e",
   "metadata": {},
   "source": [
    "# Task 4: Combining DataFrames"
   ]
  },
  {
   "cell_type": "code",
   "execution_count": 8,
   "id": "a92bacfe-b34a-45d9-9058-e60c8cd70951",
   "metadata": {},
   "outputs": [
    {
     "name": "stdout",
     "output_type": "stream",
     "text": [
      "\n",
      "⬇️ Vertical Concatenation:\n",
      "   Model  Sales       City\n",
      "0  A100    500  Hyderabad\n",
      "1  B200    600    Chennai\n",
      "2  C300    700      Delhi\n",
      "3  D400    800  Bangalore\n",
      "4  E500    900     Mumbai\n",
      "\n",
      "➡️ Horizontal Concatenation:\n",
      "   Model  Sales       City   Brand  Discount\n",
      "0  A100    500  Hyderabad  BrandX        10\n",
      "1  B200    600    Chennai  BrandY        15\n",
      "2  C300    700      Delhi  BrandZ        20\n",
      "\n",
      "⚠️ Concatenation with mismatched columns:\n",
      "   Model  Sales       City  Volume\n",
      "0  A100  500.0  Hyderabad     NaN\n",
      "1  B200  600.0    Chennai     NaN\n",
      "2  C300  700.0      Delhi     NaN\n",
      "3  F600    NaN        NaN   300.0\n"
     ]
    }
   ],
   "source": [
    "data1 = {\n",
    "    'Model': ['A100', 'B200', 'C300'],\n",
    "    'Sales': [500, 600, 700],\n",
    "    'City': ['Hyderabad', 'Chennai', 'Delhi']\n",
    "}\n",
    "df1 = pd.DataFrame(data1)\n",
    "data2 = {\n",
    "    'Model': ['D400', 'E500'],\n",
    "    'Sales': [800, 900],\n",
    "    'City': ['Bangalore', 'Mumbai']\n",
    "}\n",
    "df2 = pd.DataFrame(data2)\n",
    "vertical_concat = pd.concat([df1, df2], ignore_index=True)\n",
    "print(\"\\n⬇️ Vertical Concatenation:\\n\", vertical_concat)\n",
    "data3 = {\n",
    "    'Brand': ['BrandX', 'BrandY', 'BrandZ'],\n",
    "    'Discount': [10, 15, 20]\n",
    "}\n",
    "df3 = pd.DataFrame(data3)\n",
    "horizontal_concat = pd.concat([df1, df3], axis=1)\n",
    "print(\"\\n➡️ Horizontal Concatenation:\\n\", horizontal_concat)\n",
    "data4 = {\n",
    "    'Model': ['F600'],\n",
    "    'Volume': [300]\n",
    "}\n",
    "df4 = pd.DataFrame(data4)\n",
    "mismatch_concat = pd.concat([df1, df4], ignore_index=True)\n",
    "print(\"\\n⚠️ Concatenation with mismatched columns:\\n\", mismatch_concat)"
   ]
  },
  {
   "cell_type": "markdown",
   "id": "387b9277-ea1f-4413-80d5-99541343dcfe",
   "metadata": {},
   "source": [
    "# Task 5: Final Mini Exercise "
   ]
  },
  {
   "cell_type": "code",
   "execution_count": 9,
   "id": "7d5f4325-bbc9-4e3f-bdb1-bc7fb2653258",
   "metadata": {},
   "outputs": [
    {
     "name": "stdout",
     "output_type": "stream",
     "text": [
      "📦 Grouped Summary:\n",
      "   City   Brand           sum           mean  count\n",
      "0    C  Babaji  1.447794e+05    3290.441582     44\n",
      "1    C    Gear  8.760126e+04    1536.864223     57\n",
      "2    C   Jeera  4.261257e+05    4734.729732     90\n",
      "3    C  Orange  3.619953e+06  120665.104341     30\n",
      "4    C   RealU  2.667158e+06   59270.171579     45\n",
      "\n",
      "🧩 Pivot Table (Brand vs City - Total Sales):\n",
      " City               C\n",
      "Brand               \n",
      "Babaji  1.447794e+05\n",
      "Gear    8.760126e+04\n",
      "Jeera   4.261257e+05\n",
      "Orange  3.619953e+06\n",
      "RealU   2.667158e+06\n",
      "\n",
      "🆕 Sales Level Added:\n",
      "         Model  Net Sales Value Sales Level\n",
      "0       RU-10    160346.501180        High\n",
      "1   RU-9 Plus     89323.897039        High\n",
      "2       YM-99    102042.089843        High\n",
      "3  YM-99 Plus    112235.925298        High\n",
      "4      YM-98      19927.053770        High\n"
     ]
    }
   ],
   "source": [
    "df = df.dropna(subset=['Net Sales Value', 'City', 'Model']) \n",
    "df = df[df['Net Sales Value'] > 500] \n",
    "grouped = df.groupby(['City', 'Brand'])['Net Sales Value'].agg(['sum', 'mean', 'count']).reset_index()\n",
    "def sales_level(x):\n",
    "    if x > 1000:\n",
    "        return 'High'\n",
    "    elif x > 700:\n",
    "        return 'Medium'\n",
    "    else:\n",
    "        return 'Low'\n",
    "\n",
    "df['Sales Level'] = df['Net Sales Value'].apply(sales_level)\n",
    "pivot_summary = df.pivot_table(\n",
    "    values='Net Sales Value',\n",
    "    index='Brand',\n",
    "    columns='City',\n",
    "    aggfunc='sum',\n",
    "    fill_value=0\n",
    ")\n",
    "print(\"📦 Grouped Summary:\\n\", grouped.head())\n",
    "print(\"\\n🧩 Pivot Table (Brand vs City - Total Sales):\\n\", pivot_summary.head())\n",
    "print(\"\\n🆕 Sales Level Added:\\n\", df[['Model', 'Net Sales Value', 'Sales Level']].head())"
   ]
  },
  {
   "cell_type": "code",
   "execution_count": null,
   "id": "de34eca7-7fa3-4648-9eab-3d51576d864c",
   "metadata": {},
   "outputs": [],
   "source": []
  }
 ],
 "metadata": {
  "kernelspec": {
   "display_name": "Python [conda env:base] *",
   "language": "python",
   "name": "conda-base-py"
  },
  "language_info": {
   "codemirror_mode": {
    "name": "ipython",
    "version": 3
   },
   "file_extension": ".py",
   "mimetype": "text/x-python",
   "name": "python",
   "nbconvert_exporter": "python",
   "pygments_lexer": "ipython3",
   "version": "3.12.7"
  }
 },
 "nbformat": 4,
 "nbformat_minor": 5
}
